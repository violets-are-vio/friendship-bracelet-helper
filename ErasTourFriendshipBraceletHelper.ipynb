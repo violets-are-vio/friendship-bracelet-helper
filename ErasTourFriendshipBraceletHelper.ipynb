{
  "nbformat": 4,
  "nbformat_minor": 0,
  "metadata": {
    "colab": {
      "provenance": [],
      "toc_visible": true,
      "authorship_tag": "ABX9TyPK5FhBplj0ii5iBOotlamd",
      "include_colab_link": true
    },
    "kernelspec": {
      "name": "python3",
      "display_name": "Python 3"
    },
    "language_info": {
      "name": "python"
    }
  },
  "cells": [
    {
      "cell_type": "markdown",
      "metadata": {
        "id": "view-in-github",
        "colab_type": "text"
      },
      "source": [
        "<a href=\"https://colab.research.google.com/github/violets-are-vio/friendship-bracelet-helper/blob/main/ErasTourFriendshipBraceletHelper.ipynb\" target=\"_parent\"><img src=\"https://colab.research.google.com/assets/colab-badge.svg\" alt=\"Open In Colab\"/></a>"
      ]
    },
    {
      "cell_type": "markdown",
      "source": [
        "# Eras Tour Friendship Bracelet Helper\n",
        "\n",
        "To use this programm:\n",
        "1. click on the \"play\" button at the upper left side of the code\n",
        "2. Type in the letters for which you have no beads left\n",
        "3. Hit Enter\n",
        "4. Voila!"
      ],
      "metadata": {
        "id": "682Hg-8U3qzT"
      }
    },
    {
      "cell_type": "code",
      "source": [
        "import pandas as pd\n",
        "\n",
        "# Load the CSV file into a DataFrame\n",
        "df = pd.read_csv('/home/taylor-swift-song-data-from-all-the-albums-QueryResult.csv')\n",
        "df = df.applymap(lambda x: x.lower() if isinstance(x, str) else x)\n",
        "\n",
        "# Take comma-separated array of letters as user input\n",
        "input_str = input(\"Enter a comma-separated list of letters: \")\n",
        "\n",
        "# Split the input string into an array of letters\n",
        "letters_array = input_str.split(',')\n",
        "\n",
        "# Output the array of letters\n",
        "print(letters_array)\n",
        "\n",
        "# Iterate through each value in the DataFrame and filter out values containing any letters in letters_array\n",
        "filtered_values = []\n",
        "for index, row in df.iterrows():\n",
        "    value = row['track_title']  # Replace 'your_column_name' with the actual column name containing words or sentences\n",
        "    if not any(letter in value for letter in letters_array):\n",
        "        filtered_values.append(value)\n",
        "\n",
        "# Create a new DataFrame with filtered values\n",
        "new_df = pd.DataFrame(filtered_values, columns=['title'])\n",
        "\n",
        "# Print the new DataFrame\n",
        "print(new_df)"
      ],
      "metadata": {
        "colab": {
          "base_uri": "https://localhost:8080/"
        },
        "id": "JIM7gnGV4k4c",
        "outputId": "7b68cd24-f78a-46e3-ec69-a12a7f846dd8"
      },
      "execution_count": null,
      "outputs": [
        {
          "output_type": "stream",
          "name": "stdout",
          "text": [
            "Enter a comma-separated list of letters: h,i,k,o\n",
            "['h', 'i', 'k', 'o']\n",
            "             title\n",
            "0         superman\n",
            "1              red\n",
            "2             mean\n",
            "3            style\n",
            "4               22\n",
            "5      getaway car\n",
            "6   new year's day\n",
            "7            clean\n",
            "8            dress\n",
            "9   stay stay stay\n",
            "10        fearless\n"
          ]
        }
      ]
    }
  ]
}